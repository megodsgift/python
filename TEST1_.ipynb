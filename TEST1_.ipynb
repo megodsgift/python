{
  "nbformat": 4,
  "nbformat_minor": 0,
  "metadata": {
    "colab": {
      "name": "TEST1-.ipynb",
      "provenance": []
    },
    "kernelspec": {
      "name": "python3",
      "display_name": "Python 3"
    },
    "language_info": {
      "name": "python"
    }
  },
  "cells": [
    {
      "cell_type": "code",
      "metadata": {
        "id": "CUIOtdSajRfH"
      },
      "source": [
        "                                                      #section-B\n",
        "Naveena.S\n",
        "205209120"
      ],
      "execution_count": null,
      "outputs": []
    },
    {
      "cell_type": "code",
      "metadata": {
        "colab": {
          "base_uri": "https://localhost:8080/"
        },
        "id": "2uyxfAlmeCu7",
        "outputId": "f24445e3-3e9e-492f-8f71-68dad0498f00"
      },
      "source": [
        "#31\n",
        "firstname=input('your first name: ')\n",
        "lastname=input('your last name: ')\n",
        "print('hello' +lastname+ ''+firstname)"
      ],
      "execution_count": null,
      "outputs": [
        {
          "output_type": "stream",
          "text": [
            "your first name: NAVEENA\n",
            "your last name: SARAVANAN\n",
            "helloSARAVANANNAVEENA\n"
          ],
          "name": "stdout"
        }
      ]
    },
    {
      "cell_type": "code",
      "metadata": {
        "id": "dKgt9rBSaAok",
        "colab": {
          "base_uri": "https://localhost:8080/"
        },
        "outputId": "6a873cc7-6ed2-46f4-d7c1-779a6e2218fa"
      },
      "source": [
        "#32\n",
        "num1=float(input('ENTER HERE: '))\n",
        "num2=float(input('ENTER HERE: '))\n",
        "print(num1+num2)"
      ],
      "execution_count": null,
      "outputs": [
        {
          "output_type": "stream",
          "text": [
            "ENTER HERE: 11.5\n",
            "ENTER HERE: 12.5\n",
            "24.0\n"
          ],
          "name": "stdout"
        }
      ]
    },
    {
      "cell_type": "code",
      "metadata": {
        "colab": {
          "base_uri": "https://localhost:8080/"
        },
        "id": "MkUgYOhMcM2m",
        "outputId": "3d6a22df-c4b4-4f56-a132-f289efb871d0"
      },
      "source": [
        "#33\n",
        "a='a','e','i','o','u'\n",
        "b=input('ENTER HERE: ')\n",
        "if b in a:\n",
        "  print('vowel')\n",
        "else:\n",
        "    print('consonent')\n"
      ],
      "execution_count": null,
      "outputs": [
        {
          "output_type": "stream",
          "text": [
            "ENTER HERE: u\n",
            "vowel\n"
          ],
          "name": "stdout"
        }
      ]
    },
    {
      "cell_type": "code",
      "metadata": {
        "colab": {
          "base_uri": "https://localhost:8080/"
        },
        "id": "g334JDDpmTTL",
        "outputId": "ac938243-4643-4ebe-a245-2dc875948e10"
      },
      "source": [
        "#34\n",
        "li=[1,2,3,4,5,6]\n",
        "print('length: ',len(li))\n",
        "print('data type: ',type(li))"
      ],
      "execution_count": null,
      "outputs": [
        {
          "output_type": "stream",
          "text": [
            "length:  6\n",
            "data type:  <class 'list'>\n"
          ],
          "name": "stdout"
        }
      ]
    },
    {
      "cell_type": "code",
      "metadata": {
        "colab": {
          "base_uri": "https://localhost:8080/"
        },
        "id": "6DLoTBLDkdaL",
        "outputId": "294a3351-f3b2-4a88-f666-27c3083ddcc0"
      },
      "source": [
        "#35\n",
        "fruits=('apple','banana','cherry')\n",
        "t1='apple'\n",
        "t2='banana'\n",
        "t3='cherry'\n",
        "print(t3)"
      ],
      "execution_count": null,
      "outputs": [
        {
          "output_type": "stream",
          "text": [
            "cherry\n"
          ],
          "name": "stdout"
        }
      ]
    },
    {
      "cell_type": "code",
      "metadata": {
        "colab": {
          "base_uri": "https://localhost:8080/"
        },
        "id": "91YEwMLRk9xe",
        "outputId": "5d83422c-6615-478a-807e-c4b63af6e73c"
      },
      "source": [
        "#36\n",
        "marks=(70,80,90)\n",
        "(m1,m2,m3)=marks\n",
        "print(m1)\n",
        "print(m2)\n",
        "print(m3)"
      ],
      "execution_count": null,
      "outputs": [
        {
          "output_type": "stream",
          "text": [
            "70\n",
            "80\n",
            "90\n"
          ],
          "name": "stdout"
        }
      ]
    },
    {
      "cell_type": "code",
      "metadata": {
        "colab": {
          "base_uri": "https://localhost:8080/"
        },
        "id": "q07MQxD4lZgO",
        "outputId": "66010b2c-6bd2-424d-b8f8-e9db7d0d1ef0"
      },
      "source": [
        "#37\n",
        "int=[5,6,7,8,9]\n",
        "int.insert(9,0)\n",
        "print('update list: ',int)"
      ],
      "execution_count": null,
      "outputs": [
        {
          "output_type": "stream",
          "text": [
            "update list:  [5, 6, 7, 8, 9, 0]\n"
          ],
          "name": "stdout"
        }
      ]
    },
    {
      "cell_type": "code",
      "metadata": {
        "colab": {
          "base_uri": "https://localhost:8080/",
          "height": 35
        },
        "id": "PEQ7-7ugnb_y",
        "outputId": "719f7cc1-96a8-4a6a-e131-18c7dd4819d4"
      },
      "source": [
        "#38\n",
        "text='encyclopedia'\n",
        "text.upper()"
      ],
      "execution_count": null,
      "outputs": [
        {
          "output_type": "execute_result",
          "data": {
            "application/vnd.google.colaboratory.intrinsic+json": {
              "type": "string"
            },
            "text/plain": [
              "'ENCYCLOPEDIA'"
            ]
          },
          "metadata": {
            "tags": []
          },
          "execution_count": 9
        }
      ]
    },
    {
      "cell_type": "code",
      "metadata": {
        "colab": {
          "base_uri": "https://localhost:8080/"
        },
        "id": "Ro1UzvJnoBNb",
        "outputId": "170061b0-7541-4e73-9de1-498cca1951c0"
      },
      "source": [
        "38\n",
        "text='encyclopedia'\n",
        "text.isalnum()"
      ],
      "execution_count": null,
      "outputs": [
        {
          "output_type": "execute_result",
          "data": {
            "text/plain": [
              "True"
            ]
          },
          "metadata": {
            "tags": []
          },
          "execution_count": 10
        }
      ]
    },
    {
      "cell_type": "code",
      "metadata": {
        "colab": {
          "base_uri": "https://localhost:8080/"
        },
        "id": "151oaBChoMma",
        "outputId": "000da64a-ba85-45af-d38a-32fa57892c08"
      },
      "source": [
        "38\n",
        "text='encyclopedia'\n",
        "text.islower()"
      ],
      "execution_count": null,
      "outputs": [
        {
          "output_type": "execute_result",
          "data": {
            "text/plain": [
              "True"
            ]
          },
          "metadata": {
            "tags": []
          },
          "execution_count": 11
        }
      ]
    },
    {
      "cell_type": "code",
      "metadata": {
        "colab": {
          "base_uri": "https://localhost:8080/"
        },
        "id": "on4glxRPoXVL",
        "outputId": "089d92e7-9544-4f09-accc-b828919e6cbe"
      },
      "source": [
        "38\n",
        "text='encyclopedia'\n",
        "text.isalpha()"
      ],
      "execution_count": null,
      "outputs": [
        {
          "output_type": "execute_result",
          "data": {
            "text/plain": [
              "True"
            ]
          },
          "metadata": {
            "tags": []
          },
          "execution_count": 12
        }
      ]
    },
    {
      "cell_type": "code",
      "metadata": {
        "colab": {
          "base_uri": "https://localhost:8080/"
        },
        "id": "u0D3jgpJdwqU",
        "outputId": "5c832ea5-159d-4cb2-bf6e-81d3faf62e94"
      },
      "source": [
        "#39\n",
        "print=input('enter first name: ')\n",
        "print=input('enter second name: ')\n",
        "print=input('enter third name: ')\n",
        "print=input('enter fourth name:' )\n",
        "print=input('enter fivth name: ')"
      ],
      "execution_count": null,
      "outputs": [
        {
          "output_type": "stream",
          "text": [
            "enter first name:  Aariya\n",
            "enter second name: Suriya\n",
            "enter third name:  vanitha\n",
            "enter fourth name: Sarah\n",
            "enter fivth name:  Rosy\n"
          ],
          "name": "stdout"
        }
      ]
    },
    {
      "cell_type": "code",
      "metadata": {
        "colab": {
          "base_uri": "https://localhost:8080/"
        },
        "id": "oRSQSZUbkbeR",
        "outputId": "b8ef34eb-f823-4335-c757-6c00342266ec"
      },
      "source": [
        "#40\n",
        "import numpy as np\n",
        "arr=np.array([1,2,3,4,5,6,7,8])\n",
        "print(arr)"
      ],
      "execution_count": null,
      "outputs": [
        {
          "output_type": "stream",
          "text": [
            "[1 2 3 4 5 6 7 8]\n"
          ],
          "name": "stdout"
        }
      ]
    }
  ]
}