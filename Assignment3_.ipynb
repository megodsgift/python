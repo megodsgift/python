{
  "nbformat": 4,
  "nbformat_minor": 0,
  "metadata": {
    "colab": {
      "name": "Assignment3-.ipynb",
      "provenance": []
    },
    "kernelspec": {
      "name": "python3",
      "display_name": "Python 3"
    },
    "language_info": {
      "name": "python"
    }
  },
  "cells": [
    {
      "cell_type": "code",
      "metadata": {
        "colab": {
          "base_uri": "https://localhost:8080/"
        },
        "id": "JQpepKz3PlHJ",
        "outputId": "d133fc53-476f-4e4e-de0d-0add122d01ac"
      },
      "source": [
        "sum=0\n",
        "while True:\n",
        "  num=int(input('ENTER HERE: '))\n",
        "  sum+=num\n",
        "  if num<0:\n",
        "    break\n",
        "  print(sum)"
      ],
      "execution_count": null,
      "outputs": [
        {
          "output_type": "stream",
          "text": [
            "ENTER HERE: 2\n",
            "2\n",
            "ENTER HERE: 2\n",
            "4\n",
            "ENTER HERE: 3\n",
            "7\n",
            "ENTER HERE: 4\n",
            "11\n",
            "ENTER HERE: 5\n",
            "16\n",
            "ENTER HERE: 6\n",
            "22\n",
            "ENTER HERE: -1\n"
          ],
          "name": "stdout"
        }
      ]
    },
    {
      "cell_type": "code",
      "metadata": {
        "colab": {
          "base_uri": "https://localhost:8080/"
        },
        "id": "YGfDTABpQTCA",
        "outputId": "bd49d2dc-b735-4012-b6e7-448abc656483"
      },
      "source": [
        "n=16\n",
        "for i in range(1,11):\n",
        "    print(i,'*',n,'=',n*i)"
      ],
      "execution_count": null,
      "outputs": [
        {
          "output_type": "stream",
          "text": [
            "1 * 16 = 16\n",
            "2 * 16 = 32\n",
            "3 * 16 = 48\n",
            "4 * 16 = 64\n",
            "5 * 16 = 80\n",
            "6 * 16 = 96\n",
            "7 * 16 = 112\n",
            "8 * 16 = 128\n",
            "9 * 16 = 144\n",
            "10 * 16 = 160\n"
          ],
          "name": "stdout"
        }
      ]
    },
    {
      "cell_type": "code",
      "metadata": {
        "colab": {
          "base_uri": "https://localhost:8080/"
        },
        "id": "i2VvqH3-Qtw3",
        "outputId": "418bac96-f068-490b-f3f9-0867f2fc3543"
      },
      "source": [
        "a=int(input('ENTER THE NUMBER: '))\n",
        "if a%2==0:\n",
        "  print(a,'is even')\n",
        "else:\n",
        "    print(a,'is odd')"
      ],
      "execution_count": null,
      "outputs": [
        {
          "output_type": "stream",
          "text": [
            "ENTER THE NUMBER: 26\n",
            "26 is even\n"
          ],
          "name": "stdout"
        }
      ]
    },
    {
      "cell_type": "code",
      "metadata": {
        "colab": {
          "base_uri": "https://localhost:8080/"
        },
        "id": "8eIejtdbR6p5",
        "outputId": "db07f7ef-bcfb-4f9f-d1d0-e1315bade52e"
      },
      "source": [
        "s=input('INPUT A STRING')\n",
        "d=l=0\n",
        "for c in s:\n",
        "  if c.isdigit():\n",
        "       d=d+1\n",
        "  elif c.isalpha():\n",
        "       l=l+1\n",
        "  else:\n",
        "      pass\n",
        "print('LETTERS', l)\n",
        "print('DIGITS', d)"
      ],
      "execution_count": null,
      "outputs": [
        {
          "output_type": "stream",
          "text": [
            "INPUT A STRING python2021\n",
            "LETTERS 6\n",
            "DIGITS 4\n"
          ],
          "name": "stdout"
        }
      ]
    }
  ]
}