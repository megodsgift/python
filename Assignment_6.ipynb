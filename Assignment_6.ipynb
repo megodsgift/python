{
  "nbformat": 4,
  "nbformat_minor": 0,
  "metadata": {
    "colab": {
      "name": "Assignment-6.ipynb",
      "provenance": []
    },
    "kernelspec": {
      "display_name": "Python 3",
      "name": "python3"
    },
    "language_info": {
      "name": "python"
    }
  },
  "cells": [
    {
      "cell_type": "code",
      "metadata": {
        "id": "K0O35hd_1J_z"
      },
      "source": [
        "                                                 ASSIGNMENT-6\n",
        "                                                 S.NAVEENA\n",
        "                                                 205209120"
      ],
      "execution_count": null,
      "outputs": []
    },
    {
      "cell_type": "code",
      "metadata": {
        "colab": {
          "base_uri": "https://localhost:8080/"
        },
        "id": "HrXIWiRer-Ao",
        "outputId": "c8267bf7-34d3-4e2d-a1e4-160618ca6bc3"
      },
      "source": [
        "#1\n",
        "def max_of_two(x,y):\n",
        "  if x>y:\n",
        "      return x\n",
        "  else:\n",
        "      return y\n",
        "def max_of_three(x,y,z):\n",
        "  return max_of_two( x, max_of_two( y,z))\n",
        "print(max_of_three(2,4,-5))"
      ],
      "execution_count": null,
      "outputs": [
        {
          "output_type": "stream",
          "text": [
            "4\n"
          ],
          "name": "stdout"
        }
      ]
    },
    {
      "cell_type": "code",
      "metadata": {
        "colab": {
          "base_uri": "https://localhost:8080/"
        },
        "id": "HvzLu5LYuQji",
        "outputId": "87f6ce05-fffe-4af6-8ab3-187b6b77a803"
      },
      "source": [
        "#2\n",
        "def reverse_string(str):\n",
        "    str1 = \"\"    #Declaring empty string to score the reversed string\n",
        "    for i in str:\n",
        "      str1 = i+str1\n",
        "    return str1    #It will return the reversed string to the caller function\n",
        "str = \"Python\"  #Given string\n",
        "print(\"The original string is: \",str)\n",
        "print(\"The reverse string is \",reverse_string(str))  #Function cell"
      ],
      "execution_count": null,
      "outputs": [
        {
          "output_type": "stream",
          "text": [
            "The original string is:  Python\n",
            "The reverse string is  nohtyP\n"
          ],
          "name": "stdout"
        }
      ]
    },
    {
      "cell_type": "code",
      "metadata": {
        "colab": {
          "base_uri": "https://localhost:8080/",
          "height": 0
        },
        "id": "4gvIGPWss-1s",
        "outputId": "8a10e62b-9d5d-41c8-a34a-06472168d891"
      },
      "source": [
        "#3\n",
        "def string_test(s):\n",
        "  d={\"UPPER_CASE\":0, \"LOWER_CASE\":0}\n",
        "  for c in s :\n",
        "      if c.isupper():\n",
        "         d[\"UPPER_CASE\"]+=1\n",
        "      elif c.islower():\n",
        "        d[\"LOWER_CASE\"]+=1\n",
        "      else:\n",
        "         pass\n",
        "  print (\"Original String : \", s)\n",
        "  print (\"No. of upper case characters : \", d[\"UPPER_CASE\"])\n",
        "  print (\"No. of lower case characters : \", d[\"LOWER_CASE\"])  \n",
        "string_test('Your Comfort Zone Is Your Enemy')"
      ],
      "execution_count": 5,
      "outputs": [
        {
          "output_type": "stream",
          "text": [
            "Original String :  Your Comfort Zone Is Your Enemy\n",
            "No. of upper case characters :  6\n",
            "No. of lower case characters :  20\n"
          ],
          "name": "stdout"
        }
      ]
    },
    {
      "cell_type": "code",
      "metadata": {
        "colab": {
          "base_uri": "https://localhost:8080/"
        },
        "id": "lCx-MzDYxcpE",
        "outputId": "c37d1a0f-b401-4e1c-d609-e0823d2d20d3"
      },
      "source": [
        "#4\n",
        "def unique_list(l):\n",
        "  x = []\n",
        "  for a in l :\n",
        "      if a not in x:\n",
        "         x.append(a)\n",
        "  return x\n",
        "\n",
        "print(unique_list([1,2,3,3,3,34,5,6,4,5 ]))"
      ],
      "execution_count": null,
      "outputs": [
        {
          "output_type": "stream",
          "text": [
            "[1, 2, 3, 34, 5, 6, 4]\n"
          ],
          "name": "stdout"
        }
      ]
    },
    {
      "cell_type": "code",
      "metadata": {
        "colab": {
          "base_uri": "https://localhost:8080/"
        },
        "id": "tKYLQds-yEJ3",
        "outputId": "8f918b0f-6504-4e50-c7db-c726cef56b4a"
      },
      "source": [
        "#5\n",
        "def ispalindrome(string):\n",
        "  left_pos = 0\n",
        "  right_pos = len(string)-1\n",
        "\n",
        "  while right_pos >=left_pos:\n",
        "    if not string[left_pos] ==string[right_pos]:\n",
        "        return False\n",
        "    left_pos +=1\n",
        "    right_pos -=1\n",
        "  return True\n",
        "print(ispalindrome('aza'))"
      ],
      "execution_count": null,
      "outputs": [
        {
          "output_type": "stream",
          "text": [
            "True\n"
          ],
          "name": "stdout"
        }
      ]
    }
  ]
}