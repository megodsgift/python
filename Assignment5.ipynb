{
  "nbformat": 4,
  "nbformat_minor": 0,
  "metadata": {
    "colab": {
      "name": "Assignment5.ipynb",
      "provenance": []
    },
    "kernelspec": {
      "display_name": "Python 3",
      "name": "python3"
    },
    "language_info": {
      "name": "python"
    }
  },
  "cells": [
    {
      "cell_type": "code",
      "metadata": {
        "id": "cSuLaOSjvAxE"
      },
      "source": [
        "                                                              #DICTIONARY                         "
      ],
      "execution_count": null,
      "outputs": []
    },
    {
      "cell_type": "code",
      "metadata": {
        "id": "GX916rKXXXzp"
      },
      "source": [
        "#NAVEEENA.S\n",
        "#205209120"
      ],
      "execution_count": null,
      "outputs": []
    },
    {
      "cell_type": "code",
      "metadata": {
        "colab": {
          "base_uri": "https://localhost:8080/"
        },
        "id": "JmwlsVikvdD9",
        "outputId": "d0b4442d-939c-49d2-a307-838674b2437b"
      },
      "source": [
        "#1\n",
        "t3=('a','b','c','d','e')\n",
        "print (t3)"
      ],
      "execution_count": null,
      "outputs": [
        {
          "output_type": "stream",
          "text": [
            "('a', 'b', 'c', 'd', 'e')\n"
          ],
          "name": "stdout"
        }
      ]
    },
    {
      "cell_type": "code",
      "metadata": {
        "colab": {
          "base_uri": "https://localhost:8080/"
        },
        "id": "FlRb4k9fwpeI",
        "outputId": "70cb4305-e188-42b2-a2ba-d3abd5cc17ed"
      },
      "source": [
        "#2\n",
        "t1=('p','y','t','h','o','n','p','r','o','g','r','a','m')\n",
        "#count\n",
        "print (t1.count('p'))\n",
        "#Index\n",
        "print (t1.index('y'))\n",
        "print (t1.index('h'))"
      ],
      "execution_count": null,
      "outputs": [
        {
          "output_type": "stream",
          "text": [
            "2\n",
            "1\n",
            "3\n"
          ],
          "name": "stdout"
        }
      ]
    },
    {
      "cell_type": "code",
      "metadata": {
        "colab": {
          "base_uri": "https://localhost:8080/"
        },
        "id": "u5QDlDUlx_NU",
        "outputId": "b01ac20b-8754-4572-dad8-2e20242bab8e"
      },
      "source": [
        "#3\n",
        "my_dict={1:'apple',2:'ball'}\n",
        "print (my_dict)\n",
        "print (my_dict[2])"
      ],
      "execution_count": null,
      "outputs": [
        {
          "output_type": "stream",
          "text": [
            "{1: 'apple', 2: 'ball'}\n",
            "ball\n"
          ],
          "name": "stdout"
        }
      ]
    },
    {
      "cell_type": "code",
      "metadata": {
        "colab": {
          "base_uri": "https://localhost:8080/"
        },
        "id": "uySeeV6_ydr0",
        "outputId": "70625778-4058-481e-a0a9-b2e03de59a37"
      },
      "source": [
        "#4\n",
        "my_dict={'name':'John',1:[2,4,3]}\n",
        "print (my_dict)\n",
        "print (my_dict['name'])\n",
        "print(my_dict[1])"
      ],
      "execution_count": null,
      "outputs": [
        {
          "output_type": "stream",
          "text": [
            "{'name': 'John', 1: [2, 4, 3]}\n",
            "John\n",
            "[2, 4, 3]\n"
          ],
          "name": "stdout"
        }
      ]
    },
    {
      "cell_type": "code",
      "metadata": {
        "colab": {
          "base_uri": "https://localhost:8080/"
        },
        "id": "zFaYgHWLzFAv",
        "outputId": "9badc850-48b5-4c93-dfb6-771c1b4c7df9"
      },
      "source": [
        "#5\n",
        "my_dict={(1,2,3):\"abc\",3.14:\"abc\"}\n",
        "print (my_dict)"
      ],
      "execution_count": null,
      "outputs": [
        {
          "output_type": "stream",
          "text": [
            "{(1, 2, 3): 'abc', 3.14: 'abc'}\n"
          ],
          "name": "stdout"
        }
      ]
    },
    {
      "cell_type": "code",
      "metadata": {
        "colab": {
          "base_uri": "https://localhost:8080/"
        },
        "id": "wRHmeTrKze5K",
        "outputId": "c46385a3-f45e-4bb4-c52b-bd2d1f3b670c"
      },
      "source": [
        "#6\n",
        "my_dict=dict({1:'apple',2:'ball'})\n",
        "print (my_dict)"
      ],
      "execution_count": null,
      "outputs": [
        {
          "output_type": "stream",
          "text": [
            "{1: 'apple', 2: 'ball'}\n"
          ],
          "name": "stdout"
        }
      ]
    },
    {
      "cell_type": "code",
      "metadata": {
        "colab": {
          "base_uri": "https://localhost:8080/"
        },
        "id": "qee09VNlzw3D",
        "outputId": "c22c1a05-7a71-4446-e177-37e054be6a4d"
      },
      "source": [
        "#7\n",
        "my_dict={'name':'Ram','age':21}\n",
        "print(my_dict)\n",
        " #display all items\n",
        "print (my_dict.get('name')) \n",
        " #retrieves the value of name\n",
        "my_dict['age']=23\n",
        " #Update value\n",
        "print(my_dict)\n",
        "my_dict['dept']='CSE'\n",
        " #add\n",
        "print (my_dict)"
      ],
      "execution_count": null,
      "outputs": [
        {
          "output_type": "stream",
          "text": [
            "{'name': 'Ram', 'age': 21}\n",
            "Ram\n",
            "{'name': 'Ram', 'age': 23}\n",
            "{'name': 'Ram', 'age': 23, 'dept': 'CSE'}\n"
          ],
          "name": "stdout"
        }
      ]
    },
    {
      "cell_type": "code",
      "metadata": {
        "colab": {
          "base_uri": "https://localhost:8080/"
        },
        "id": "ZK4YGQF00-oA",
        "outputId": "40705660-28d7-48a2-9ee6-411754b27b2a"
      },
      "source": [
        "#8\n",
        "squares={1:1,2:4,3:9,4:16,5:25}\n",
        "print(squares.pop(3))\n",
        " #remove a particular items\n",
        "print (squares)\n",
        "print(squares.popitem())\n",
        " #remove an arbitrary item\n",
        "print (squares)\n",
        "squares.clear()\n",
        " #remove all items\n",
        "print (squares)"
      ],
      "execution_count": null,
      "outputs": [
        {
          "output_type": "stream",
          "text": [
            "9\n",
            "{1: 1, 2: 4, 4: 16, 5: 25}\n",
            "(5, 25)\n",
            "{1: 1, 2: 4, 4: 16}\n",
            "{}\n"
          ],
          "name": "stdout"
        }
      ]
    },
    {
      "cell_type": "code",
      "metadata": {
        "colab": {
          "base_uri": "https://localhost:8080/"
        },
        "id": "JkpD2WZe2KQa",
        "outputId": "67afd988-363d-4c66-88c0-37d74068653a"
      },
      "source": [
        "#9\n",
        "marks={}.fromkeys(['Math','English','Science'],0)\n",
        "print (marks)\n",
        "for items in marks.items():\n",
        "  print(items)\n",
        "  print (list (sorted(marks.keys())))"
      ],
      "execution_count": null,
      "outputs": [
        {
          "output_type": "stream",
          "text": [
            "{'Math': 0, 'English': 0, 'Science': 0}\n",
            "('Math', 0)\n",
            "['English', 'Math', 'Science']\n",
            "('English', 0)\n",
            "['English', 'Math', 'Science']\n",
            "('Science', 0)\n",
            "['English', 'Math', 'Science']\n"
          ],
          "name": "stdout"
        }
      ]
    },
    {
      "cell_type": "code",
      "metadata": {
        "colab": {
          "base_uri": "https://localhost:8080/"
        },
        "id": "B5dDbfAG2_t8",
        "outputId": "70a5c492-95e2-4a4e-b1ab-ac3b56ab5c11"
      },
      "source": [
        "#10\n",
        "squares={1:1,2:4,3:9,4:16,5:25}\n",
        "for i in squares:\n",
        "  print(squares[i])"
      ],
      "execution_count": null,
      "outputs": [
        {
          "output_type": "stream",
          "text": [
            "1\n",
            "4\n",
            "9\n",
            "16\n",
            "25\n"
          ],
          "name": "stdout"
        }
      ]
    }
  ]
}