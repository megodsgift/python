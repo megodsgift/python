{
  "nbformat": 4,
  "nbformat_minor": 0,
  "metadata": {
    "colab": {
      "name": "Assignment4",
      "provenance": []
    },
    "kernelspec": {
      "name": "python3",
      "display_name": "Python 3"
    },
    "language_info": {
      "name": "python"
    }
  },
  "cells": [
    {
      "cell_type": "code",
      "metadata": {
        "id": "gekuKpHQf_75"
      },
      "source": [
        "                                                         #PYTHON PROGRAMMING"
      ],
      "execution_count": null,
      "outputs": []
    },
    {
      "cell_type": "code",
      "metadata": {
        "colab": {
          "base_uri": "https://localhost:8080/"
        },
        "id": "nzK1XvJJKgzq",
        "outputId": "58be34cd-034d-4bbb-a2f6-3e855e137cdc"
      },
      "source": [
        "#1\n",
        "stulist=['Ram','Chennai',2017]\n",
        "newlist=stulist+['CS']\n",
        "print(stulist)\n",
        "print(newlist)"
      ],
      "execution_count": null,
      "outputs": [
        {
          "output_type": "stream",
          "text": [
            "['Ram', 'Chennai', 2017]\n",
            "['Ram', 'Chennai', 2017, 'CS']\n"
          ],
          "name": "stdout"
        }
      ]
    },
    {
      "cell_type": "code",
      "metadata": {
        "colab": {
          "base_uri": "https://localhost:8080/"
        },
        "id": "WKKgS723LHt3",
        "outputId": "48c36589-7dc1-49d6-8aaf-bbc538149c22"
      },
      "source": [
        "#2\n",
        "stulist=['Ram','Chennai',2017]\n",
        "print (stulist[0])\n",
        "print (stulist[:3])\n",
        "print (stulist[1:])\n",
        "print (stulist[1:1])\n",
        "print (stulist[5:2])\n",
        "print (stulist[:])\n",
        "print (stulist[-2:])\n",
        "print (stulist[:-2])\n",
        "print (stulist[1:3])"
      ],
      "execution_count": null,
      "outputs": [
        {
          "output_type": "stream",
          "text": [
            "Ram\n",
            "['Ram', 'Chennai', 2017]\n",
            "['Chennai', 2017]\n",
            "[]\n",
            "[]\n",
            "['Ram', 'Chennai', 2017]\n",
            "['Chennai', 2017]\n",
            "['Ram']\n",
            "['Chennai', 2017]\n"
          ],
          "name": "stdout"
        }
      ]
    },
    {
      "cell_type": "code",
      "metadata": {
        "colab": {
          "base_uri": "https://localhost:8080/"
        },
        "id": "QlqgJWoJMSbg",
        "outputId": "2f7f3b72-35b7-4ad2-aa9f-38111fc1d0f8"
      },
      "source": [
        "#3\n",
        "stulist=['Ram','Chennai',2017]\n",
        "stulist.append('CS')\n",
        "print('After appending')\n",
        "print (stulist)"
      ],
      "execution_count": null,
      "outputs": [
        {
          "output_type": "stream",
          "text": [
            "After appending\n",
            "['Ram', 'Chennai', 2017, 'CS']\n"
          ],
          "name": "stdout"
        }
      ]
    },
    {
      "cell_type": "code",
      "metadata": {
        "colab": {
          "base_uri": "https://localhost:8080/"
        },
        "id": "uU_KYCu1Nw_K",
        "outputId": "4e4252fb-5878-49a4-9ad0-740df3f8d8dc"
      },
      "source": [
        "#4\n",
        "stulist=['Ram','Chennai',2017]\n",
        "dept=['CS']\n",
        "print(\"Before Extend:\",stulist)\n",
        "stulist.extend(dept)\n",
        "print(\"After Extend:\",stulist)"
      ],
      "execution_count": null,
      "outputs": [
        {
          "output_type": "stream",
          "text": [
            "Before Extend: ['Ram', 'Chennai', 2017]\n",
            "After Extend: ['Ram', 'Chennai', 2017, 'CS']\n"
          ],
          "name": "stdout"
        }
      ]
    },
    {
      "cell_type": "code",
      "metadata": {
        "colab": {
          "base_uri": "https://localhost:8080/"
        },
        "id": "aX-hHdUmOqu8",
        "outputId": "4f04fcd8-592c-4ecd-d49c-a92359bfe5f5"
      },
      "source": [
        "#5\n",
        "stulist=['Ram','Chennai',2017]\n",
        "print('Index of Ram:',stulist.index('Ram'))\n",
        "print('Index of chennai:',stulist.index('Chennai'))\n",
        "print('Index of 2017:',stulist.index(2017))"
      ],
      "execution_count": null,
      "outputs": [
        {
          "output_type": "stream",
          "text": [
            "Index of Ram: 0\n",
            "Index of chennai: 1\n",
            "Index of 2017: 2\n"
          ],
          "name": "stdout"
        }
      ]
    },
    {
      "cell_type": "code",
      "metadata": {
        "colab": {
          "base_uri": "https://localhost:8080/"
        },
        "id": "FUubVGOGPl1h",
        "outputId": "ffea7625-ec2d-432b-b8c6-51762d236d12"
      },
      "source": [
        "#6\n",
        "stulist=['Ram','Chennai',2017]\n",
        "print('Before insert:',stulist)\n",
        "stulist.insert(1,'CSE')\n",
        "print('After insert:',stulist)"
      ],
      "execution_count": null,
      "outputs": [
        {
          "output_type": "stream",
          "text": [
            "Before insert: ['Ram', 'Chennai', 2017]\n",
            "After insert: ['Ram', 'CSE', 'Chennai', 2017]\n"
          ],
          "name": "stdout"
        }
      ]
    },
    {
      "cell_type": "code",
      "metadata": {
        "colab": {
          "base_uri": "https://localhost:8080/"
        },
        "id": "QjyvAnpIQVwn",
        "outputId": "06e1f595-c268-4521-d63e-075a13f076b8"
      },
      "source": [
        "#7\n",
        "stulist=['Ram','Chennai',2017,'CSE',92.7]\n",
        "print('Initial list is:',stulist)\n",
        "print('Popping the last item:',stulist.pop())\n",
        "print('After popping the last item,the list is:',stulist)"
      ],
      "execution_count": null,
      "outputs": [
        {
          "output_type": "stream",
          "text": [
            "Initial list is: ['Ram', 'Chennai', 2017, 'CSE', 92.7]\n",
            "Popping the last item: 92.7\n",
            "After popping the last item,the list is: ['Ram', 'Chennai', 2017, 'CSE']\n"
          ],
          "name": "stdout"
        }
      ]
    },
    {
      "cell_type": "code",
      "metadata": {
        "colab": {
          "base_uri": "https://localhost:8080/"
        },
        "id": "LCMXffwoRRHU",
        "outputId": "5a012827-f8f6-4e0b-9823-cc77d406b58e"
      },
      "source": [
        "#8\n",
        "stulist=['Ram','Chennai',2017,'CSE',92.7]\n",
        "print('Initial list is:',stulist)\n",
        "print('Popping an item with index2:',stulist.pop(2))\n",
        "#2 is an index of the item to be removed\n",
        "print('Now the list is:',stulist)"
      ],
      "execution_count": null,
      "outputs": [
        {
          "output_type": "stream",
          "text": [
            "Initial list is: ['Ram', 'Chennai', 2017, 'CSE', 92.7]\n",
            "Popping an item with index2: 2017\n",
            "Now the list is: ['Ram', 'Chennai', 'CSE', 92.7]\n"
          ],
          "name": "stdout"
        }
      ]
    },
    {
      "cell_type": "code",
      "metadata": {
        "colab": {
          "base_uri": "https://localhost:8080/"
        },
        "id": "u2GWFQYzSgOI",
        "outputId": "39c528ad-859d-46ee-f840-ea76cce54895"
      },
      "source": [
        "#9\n",
        "stulist=['Ram','Chennai',2017,'CSE',92.7,2017]\n",
        "print('Initial list is:',stulist)\n",
        "stulist.remove('CSE')\n",
        "print('After removing 2017 from the list:',stulist)\n",
        "stulist.remove (2017)\n",
        "print('After removing 2017 from the list:',stulist)"
      ],
      "execution_count": null,
      "outputs": [
        {
          "output_type": "stream",
          "text": [
            "Initial list is: ['Ram', 'Chennai', 2017, 'CSE', 92.7, 2017]\n",
            "After removing 2017 from the list: ['Ram', 'Chennai', 2017, 92.7, 2017]\n",
            "After removing 2017 from the list: ['Ram', 'Chennai', 92.7, 2017]\n"
          ],
          "name": "stdout"
        }
      ]
    },
    {
      "cell_type": "code",
      "metadata": {
        "colab": {
          "base_uri": "https://localhost:8080/"
        },
        "id": "u_VPZHsFTa3m",
        "outputId": "a41fec7a-76dd-470a-abda-bbab3d8edaf8"
      },
      "source": [
        "#10\n",
        "stulist=['Ram','Chennai',2017,'CSE',92.7]\n",
        "print('Initial list is:',stulist)\n",
        "stulist.reverse()\n",
        "print('After reversing,the list is:',)"
      ],
      "execution_count": null,
      "outputs": [
        {
          "output_type": "stream",
          "text": [
            "Initial list is: ['Ram', 'Chennai', 2017, 'CSE', 92.7]\n",
            "After reversing,the list is:\n"
          ],
          "name": "stdout"
        }
      ]
    },
    {
      "cell_type": "code",
      "metadata": {
        "colab": {
          "base_uri": "https://localhost:8080/"
        },
        "id": "ki1w4lA6UKoS",
        "outputId": "8bce99ff-6b7a-44ec-fa4f-1bd66b44c012"
      },
      "source": [
        "numlist=[6,28,11,4,20,26,13,12]\n",
        "print('Before sorting:',numlist)\n",
        "numlist.sort()\n",
        "print('After sorting is:',numlist)"
      ],
      "execution_count": null,
      "outputs": [
        {
          "output_type": "stream",
          "text": [
            "Before sorting: [6, 28, 11, 4, 20, 26, 13, 12]\n",
            "After sorting is: [4, 6, 11, 12, 13, 20, 26, 28]\n"
          ],
          "name": "stdout"
        }
      ]
    },
    {
      "cell_type": "code",
      "metadata": {
        "colab": {
          "base_uri": "https://localhost:8080/"
        },
        "id": "JQlRfdVfUm2G",
        "outputId": "f8944a12-7c45-4687-ca80-f751b55a7437"
      },
      "source": [
        "#11\n",
        "stulist=['Ram','Chennai',2017]\n",
        "print('Before mutation',stulist)\n",
        "stulist[0]='priya'\n",
        "print('After mutation',stulist)"
      ],
      "execution_count": null,
      "outputs": [
        {
          "output_type": "stream",
          "text": [
            "Before mutation ['Ram', 'Chennai', 2017]\n",
            "After mutation ['priya', 'Chennai', 2017]\n"
          ],
          "name": "stdout"
        }
      ]
    },
    {
      "cell_type": "code",
      "metadata": {
        "colab": {
          "base_uri": "https://localhost:8080/"
        },
        "id": "bF2ZZM_zVLrf",
        "outputId": "f0cdafd5-6287-4ab2-df9d-a7c449f6db91"
      },
      "source": [
        "#12\n",
        "t1=('C','C++','Python',1997,2000);t2=(1,2,3,4,5,6,7);t3=('a','b','c','d','e')\n",
        "\n",
        "print(\"t1[0]:\",t1[0])\n",
        "print(\"t1[0]:\",t1[1])\n",
        "print(\"t2[1:5]:\",t2[1:5])\n",
        "print(\"t2[1:]:\",t2[1:])\n",
        "print(t3)"
      ],
      "execution_count": null,
      "outputs": [
        {
          "output_type": "stream",
          "text": [
            "t1[0]: C\n",
            "t1[0]: C++\n",
            "t2[1:5]: (2, 3, 4, 5)\n",
            "t2[1:]: (2, 3, 4, 5, 6, 7)\n",
            "('a', 'b', 'c', 'd', 'e')\n"
          ],
          "name": "stdout"
        }
      ]
    },
    {
      "cell_type": "code",
      "metadata": {
        "colab": {
          "base_uri": "https://localhost:8080/"
        },
        "id": "ERlC8y0sWg6J",
        "outputId": "f453d45f-2bc9-4bac-a4b1-83532e87e6ee"
      },
      "source": [
        "#13\n",
        "nest_tup=(\"hello\",[8,4,6],(1,2,3))#nested index\n",
        "print\n",
        "nest_tup[0][4]\n",
        "print\n",
        "nest_tup[1][2]\n",
        "print\n",
        "nest_tup[2][0]"
      ],
      "execution_count": null,
      "outputs": [
        {
          "output_type": "execute_result",
          "data": {
            "text/plain": [
              "1"
            ]
          },
          "metadata": {
            "tags": []
          },
          "execution_count": 2
        }
      ]
    }
  ]
}