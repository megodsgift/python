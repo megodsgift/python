{
  "nbformat": 4,
  "nbformat_minor": 0,
  "metadata": {
    "colab": {
      "name": "Assignment2.pdf",
      "provenance": []
    },
    "kernelspec": {
      "name": "python3",
      "display_name": "Python 3"
    },
    "language_info": {
      "name": "python"
    }
  },
  "cells": [
    {
      "cell_type": "code",
      "metadata": {
        "colab": {
          "base_uri": "https://localhost:8080/"
        },
        "id": "w2zhj1G02fw_",
        "outputId": "6c63ac98-59ad-46ce-992e-b894d8ce627d"
      },
      "source": [
        "ch=input('ENTER HERE: ')\n",
        "if ch.isalpha():\n",
        "   print(ch, 'is a character')\n",
        "elif ch.isdigit():\n",
        "       print(ch, 'is a digit')\n",
        "else: \n",
        "      print(ch,'is a symbol')"
      ],
      "execution_count": null,
      "outputs": [
        {
          "output_type": "stream",
          "text": [
            "ENTER HERE:  ===\n",
            " === is a symbol\n"
          ],
          "name": "stdout"
        }
      ]
    },
    {
      "cell_type": "code",
      "metadata": {
        "colab": {
          "base_uri": "https://localhost:8080/"
        },
        "id": "Qrlr4MJGoVs3",
        "outputId": "be4dad27-2663-4e99-ca10-9b05098c5c8d"
      },
      "source": [
        "a=input('ENTER HERE: ')\n",
        "b='a,A,e.E,i,I,o,O,u,U'\n",
        "if a in b:\n",
        "   print('VOWEL')\n",
        "else:\n",
        "    print('CONSONANT')"
      ],
      "execution_count": null,
      "outputs": [
        {
          "output_type": "stream",
          "text": [
            "ENTER HERE: e\n",
            "VOWEL\n"
          ],
          "name": "stdout"
        }
      ]
    },
    {
      "cell_type": "code",
      "metadata": {
        "colab": {
          "base_uri": "https://localhost:8080/"
        },
        "id": "x7wOTM3FtzmY",
        "outputId": "3a19ec92-881e-4caf-949d-3753a9d18d52"
      },
      "source": [
        "a=int(input('ENTER THE NUMBER: '))\n",
        "if a>0: \n",
        "    print('{0} is a positive number'.format(a))\n",
        "elif a==0: \n",
        "     print('{0} is zero'.format(a))\n",
        "else:\n",
        "    print('{0} is a negative number'.format(a))"
      ],
      "execution_count": null,
      "outputs": [
        {
          "output_type": "stream",
          "text": [
            "ENTER THE NUMBER:  -8\n",
            "-8 is a negative number\n"
          ],
          "name": "stdout"
        }
      ]
    },
    {
      "cell_type": "code",
      "metadata": {
        "colab": {
          "base_uri": "https://localhost:8080/"
        },
        "id": "_lpnPAk6nHje",
        "outputId": "010b0973-3c5e-4703-f4da-6db6c5b82374"
      },
      "source": [
        "p=20*1+100*2+6*4+3*8\n",
        "x=(p-(118*2))/3\n",
        "print('value of p=',p)\n",
        "print('value of x=',x)"
      ],
      "execution_count": null,
      "outputs": [
        {
          "output_type": "stream",
          "text": [
            "value of p= 268\n",
            "value of x= 10.666666666666666\n"
          ],
          "name": "stdout"
        }
      ]
    },
    {
      "cell_type": "code",
      "metadata": {
        "colab": {
          "base_uri": "https://localhost:8080/"
        },
        "id": "FuR2gCkwpXod",
        "outputId": "041522cd-559c-46da-a0f0-2af3eb26845a"
      },
      "source": [
        "c=int(input('ENTER FIRST VALUE'))\n",
        "d=int(input('ENTER SECOND VALUE'))\n",
        "add=c+d\n",
        "sub=c-d\n",
        "multi=c*d\n",
        "div=c/d\n",
        "mod=c%d\n",
        "exp=c**d\n",
        "fd=c//d\n",
        "print('ADDITION: ',add )\n",
        "print('SUBTRACTION: ',sub)\n",
        "print('MULTIPLICATION: ',multi)\n",
        "print('DIVISION: ',div)\n",
        "print('MODULUS: ',mod)\n",
        "print('EXPONENTIAL: ',exp)\n",
        "print('FLOOR DIVISION: ',fd)"
      ],
      "execution_count": null,
      "outputs": [
        {
          "output_type": "stream",
          "text": [
            "ENTER FIRST VALUE 20\n",
            "ENTER SECOND VALUE 59\n",
            "ADDITION:  79\n",
            "SUBTRACTION:  -39\n",
            "MULTIPLICATION:  1180\n",
            "DIVISION:  0.3389830508474576\n",
            "MODULUS:  20\n",
            "EXPONENTIAL:  57646075230342348800000000000000000000000000000000000000000000000000000000000\n",
            "FLOOR DIVISION:  0\n"
          ],
          "name": "stdout"
        }
      ]
    },
    {
      "cell_type": "code",
      "metadata": {
        "colab": {
          "base_uri": "https://localhost:8080/"
        },
        "id": "IhVe7PAsrxjj",
        "outputId": "b2dd679d-d4a5-4649-ad63-e61855fcab99"
      },
      "source": [
        "p=int(input('ENTER FIRST VALUE: '))\n",
        "q=int(input('ENTER SECOND VALUE: '))\n",
        "equal=p==q\n",
        "unequal=p!=q\n",
        "lessthan=p<=q\n",
        "greater=p>=q\n",
        "print(equal)\n",
        "print(unequal)\n",
        "print(greater)\n",
        "print(lessthan)"
      ],
      "execution_count": null,
      "outputs": [
        {
          "output_type": "stream",
          "text": [
            "ENTER FIRST VALUE:  20\n",
            "ENTER SECOND VALUE: 21\n",
            "False\n",
            "True\n",
            "False\n",
            "True\n"
          ],
          "name": "stdout"
        }
      ]
    },
    {
      "cell_type": "code",
      "metadata": {
        "colab": {
          "base_uri": "https://localhost:8080/"
        },
        "id": "IyVdxqBRtnwK",
        "outputId": "c765d109-c3d4-4fb0-a355-e57d13a31db4"
      },
      "source": [
        "y=float(input('ENTER THE FIRST NUMBER: '))\n",
        "z=float(input('ENTER THE SECOND NUMBER: '))\n",
        "import math as m\n",
        "p=m.log(y)\n",
        "q=m.sqrt(y)\n",
        "r=m.ceil(y)\n",
        "s=m.pow(x,y)\n",
        "t=m.exp(x)\n",
        "print('log=',p)\n",
        "print('square=',q)\n",
        "print('ceil=',r)\n",
        "print('power=',s)\n",
        "print('exponential=',t)"
      ],
      "execution_count": null,
      "outputs": [
        {
          "output_type": "stream",
          "text": [
            "ENTER THE FIRST NUMBER:  22\n",
            "ENTER THE SECOND NUMBER:  4\n",
            "log= 3.091042453358316\n",
            "square= 4.69041575982343\n",
            "ceil= 22\n",
            "power= 4.136489432821514e+22\n",
            "exponential= 42901.69723267145\n"
          ],
          "name": "stdout"
        }
      ]
    },
    {
      "cell_type": "code",
      "metadata": {
        "colab": {
          "base_uri": "https://localhost:8080/"
        },
        "id": "OkzyVWl853cr",
        "outputId": "b9fa4e1a-2ccc-4eff-f3b0-02b9ba889dc9"
      },
      "source": [
        "c=344.767\n",
        "d=567.12367\n",
        "e=12300000\n",
        "print('{:.2f}'.format(c));\n",
        "print('{:.3f}'.format(d));\n",
        "print('{:.3e}'.format(e));"
      ],
      "execution_count": null,
      "outputs": [
        {
          "output_type": "stream",
          "text": [
            "344.77\n",
            "567.124\n",
            "1.230e+07\n"
          ],
          "name": "stdout"
        }
      ]
    }
  ]
}