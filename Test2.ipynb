{
  "nbformat": 4,
  "nbformat_minor": 0,
  "metadata": {
    "colab": {
      "name": "Test2.ipynb",
      "provenance": []
    },
    "kernelspec": {
      "name": "python3",
      "display_name": "Python 3"
    },
    "language_info": {
      "name": "python"
    }
  },
  "cells": [
    {
      "cell_type": "code",
      "metadata": {
        "id": "bAZYE9gGeCDo"
      },
      "source": [
        "                                                 TEST-2\n",
        "                                                 S.NAVEENA\n",
        "                                                 205209120"
      ],
      "execution_count": null,
      "outputs": []
    },
    {
      "cell_type": "code",
      "metadata": {
        "colab": {
          "base_uri": "https://localhost:8080/"
        },
        "id": "uefceo5HcvR1",
        "outputId": "67399a40-ed10-4cf3-9be8-5ab853c18b10"
      },
      "source": [
        "#1.a)\n",
        "import math\n",
        "print(math.sin(math.pi/2))\n",
        "print(math.cos(math.pi/3))\n",
        "print(math.tan(math.pi/4))"
      ],
      "execution_count": null,
      "outputs": [
        {
          "output_type": "stream",
          "text": [
            "1.0\n",
            "0.5000000000000001\n",
            "0.9999999999999999\n"
          ],
          "name": "stdout"
        }
      ]
    },
    {
      "cell_type": "code",
      "metadata": {
        "colab": {
          "base_uri": "https://localhost:8080/"
        },
        "id": "Z-lyEIIIeLNu",
        "outputId": "1e5bd945-7513-418d-d365-42b5089ab527"
      },
      "source": [
        "#1.b)\n",
        "#lamda function\n",
        "def add_func(y,z):\n",
        "  return y+z\n",
        "print(add_func(10,12))"
      ],
      "execution_count": null,
      "outputs": [
        {
          "output_type": "stream",
          "text": [
            "22\n"
          ],
          "name": "stdout"
        }
      ]
    },
    {
      "cell_type": "code",
      "metadata": {
        "colab": {
          "base_uri": "https://localhost:8080/"
        },
        "id": "RKIuzr1LgPP0",
        "outputId": "503e92e1-0e2a-4bee-f766-69dd28a82607"
      },
      "source": [
        "#1.c)\n",
        "n=int(input('ENTER A NUM: '))\n",
        "sum1=0\n",
        "while(n>0):\n",
        "  sum1=sum1+n\n",
        "  n=n-1\n",
        "print('the sum of first n natural number is',sum1)"
      ],
      "execution_count": null,
      "outputs": [
        {
          "output_type": "stream",
          "text": [
            "ENTER A NUM:  5\n",
            "the sum of first n natural number is 15\n"
          ],
          "name": "stdout"
        }
      ]
    },
    {
      "cell_type": "code",
      "metadata": {
        "colab": {
          "base_uri": "https://localhost:8080/"
        },
        "id": "RZEc_3vhiTgr",
        "outputId": "707f8926-cb6c-4274-8629-a4c05e2f3513"
      },
      "source": [
        "#2 a)\n",
        "#import mean()\n",
        "from statistics import mean\n",
        "def average(list):\n",
        "  return mean(list)\n",
        "list=[10,20,30,40,50]\n",
        "average=average(list)\n",
        "print('average of the list=',round(average,2))"
      ],
      "execution_count": null,
      "outputs": [
        {
          "output_type": "stream",
          "text": [
            "average of the list= 30\n"
          ],
          "name": "stdout"
        }
      ]
    },
    {
      "cell_type": "code",
      "metadata": {
        "colab": {
          "base_uri": "https://localhost:8080/"
        },
        "id": "k9zEN0Ywllxi",
        "outputId": "3d2ae690-e123-4636-f2af-136e2bc15170"
      },
      "source": [
        "#5 a)\n",
        "import re\n",
        "def text_match(text):\n",
        "  patterns = 'ab{2,3}'\n",
        "  if re.search(patterns, text):\n",
        "    return'Found a match!'\n",
        "  else:\n",
        "      return('Not matched!')\n",
        "print(text_match(\"ab\")) \n",
        "print(text_match(\"aabbbbbc\"))     "
      ],
      "execution_count": null,
      "outputs": [
        {
          "output_type": "stream",
          "text": [
            "Not matched!\n",
            "Found a match!\n"
          ],
          "name": "stdout"
        }
      ]
    },
    {
      "cell_type": "code",
      "metadata": {
        "id": "hZY7kR5Mx5ME"
      },
      "source": [
        "#4\n",
        "def writelines():\n",
        "  outfile=open('myfile.txt','w')\n",
        "\n",
        "  while True:\n",
        "    line=input('Enter line: ')\n",
        "    line += '\\n':\n",
        "    break\n",
        "    outfile.close()\n",
        "    #call the writelines function.\n",
        "    writelines()"
      ],
      "execution_count": null,
      "outputs": []
    },
    {
      "cell_type": "code",
      "metadata": {
        "colab": {
          "base_uri": "https://localhost:8080/"
        },
        "id": "NvWbVhE_ok5S",
        "outputId": "acd168db-b4c0-4150-f060-9e2e7da725c3"
      },
      "source": [
        "#5 b)\n",
        "import re\n",
        "def text_match(text):\n",
        "  patterns='^[a-z]+_[a-z]+$'\n",
        "  if re.search(patterns,text):\n",
        "    return 'Found a match!'\n",
        "  else:\n",
        "      return('Not matched!')\n",
        "print(text_match(\"aab_cbbbc\"))\n",
        "print(text_match(\"aab_Abbbc\"))\n",
        "print(text_match(\"Aaab_abbbc\"))"
      ],
      "execution_count": null,
      "outputs": [
        {
          "output_type": "stream",
          "text": [
            "Found a match!\n",
            "Not matched!\n",
            "Not matched!\n"
          ],
          "name": "stdout"
        }
      ]
    },
    {
      "cell_type": "code",
      "metadata": {
        "colab": {
          "base_uri": "https://localhost:8080/"
        },
        "id": "ElrUICihqZz2",
        "outputId": "2b804fb2-7e36-4141-928c-bba7e86228d0"
      },
      "source": [
        "#5 c)\n",
        "import re\n",
        "patterns = ['fox','dog','horse']\n",
        "text='The quick brown fox jumps over the lazy dog.'\n",
        "for pattern in patterns:\n",
        "  print('searching for \"%s\" in \"%s\" ->' % (pattern,text),)\n",
        "  if re.search(pattern,text):\n",
        "    print('Matched!')\n",
        "  else:\n",
        "      print('Not Matched!')"
      ],
      "execution_count": null,
      "outputs": [
        {
          "output_type": "stream",
          "text": [
            "searching for \"fox\" in \"The quick brown fox jumps over the lazy dog.\" ->\n",
            "Matched!\n",
            "searching for \"dog\" in \"The quick brown fox jumps over the lazy dog.\" ->\n",
            "Matched!\n",
            "searching for \"horse\" in \"The quick brown fox jumps over the lazy dog.\" ->\n",
            "Not Matched!\n"
          ],
          "name": "stdout"
        }
      ]
    }
  ]
}