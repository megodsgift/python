{
  "nbformat": 4,
  "nbformat_minor": 0,
  "metadata": {
    "colab": {
      "name": "navepython1.ipynb",
      "provenance": [],
      "collapsed_sections": []
    },
    "kernelspec": {
      "name": "python3",
      "display_name": "Python 3"
    },
    "language_info": {
      "name": "python"
    }
  },
  "cells": [
    {
      "cell_type": "code",
      "metadata": {
        "colab": {
          "base_uri": "https://localhost:8080/"
        },
        "id": "xCq8Iy7TM4Lm",
        "outputId": "7df84a86-776d-480b-e503-2f5a2d5326c7"
      },
      "source": [
        "movie='MASTER'\n",
        "print(movie)"
      ],
      "execution_count": null,
      "outputs": [
        {
          "output_type": "stream",
          "text": [
            "MASTER\n"
          ],
          "name": "stdout"
        }
      ]
    },
    {
      "cell_type": "code",
      "metadata": {
        "colab": {
          "base_uri": "https://localhost:8080/"
        },
        "id": "SYFNEmfsTNNE",
        "outputId": "94a31331-0fd5-4c5c-f919-7e52071078d1"
      },
      "source": [
        "name='NAVEENA'\n",
        "department='CHEMISTRY'\n",
        "address='TRICHY'\n",
        "print(f'I am {name} from {department} in {address} ')"
      ],
      "execution_count": null,
      "outputs": [
        {
          "output_type": "stream",
          "text": [
            "I am NAVEENA from CHEMISTRY in TRICHY \n"
          ],
          "name": "stdout"
        }
      ]
    },
    {
      "cell_type": "code",
      "metadata": {
        "colab": {
          "base_uri": "https://localhost:8080/"
        },
        "id": "4mVB8WjoBh70",
        "outputId": "e25eda02-c3d2-42ce-e85f-577fea33cf00"
      },
      "source": [
        "print('INDIA')\n",
        "print('CANADA')\n",
        "print('JAPAN')\n",
        "print('GERMANY')\n",
        "print('AUSTRALIA')"
      ],
      "execution_count": null,
      "outputs": [
        {
          "output_type": "stream",
          "text": [
            "INDIA\n",
            "CANADA\n",
            "JAPAN\n",
            "GERMANY\n",
            "AUSTRALIA\n"
          ],
          "name": "stdout"
        }
      ]
    },
    {
      "cell_type": "code",
      "metadata": {
        "colab": {
          "base_uri": "https://localhost:8080/"
        },
        "id": "_mU_mGmvCN2P",
        "outputId": "ed71563d-f766-4eb5-d9fa-b8ae54db12e0"
      },
      "source": [
        "m='canada'\n",
        "n='India'\n",
        "o='Japan'\n",
        "p='Germany'\n",
        "q='Australia'\n",
        "print(m,n,o,p,q)"
      ],
      "execution_count": null,
      "outputs": [
        {
          "output_type": "stream",
          "text": [
            "canada India Japan Germany Australia\n"
          ],
          "name": "stdout"
        }
      ]
    },
    {
      "cell_type": "code",
      "metadata": {
        "colab": {
          "base_uri": "https://localhost:8080/"
        },
        "id": "I6eMWZBlFpY6",
        "outputId": "853225b8-9064-4296-8f3f-768cc09788a4"
      },
      "source": [
        "a='PYTHON'\n",
        "b='PROGRAMMING'\n",
        "c=2021\n",
        "print(a,b,c)"
      ],
      "execution_count": null,
      "outputs": [
        {
          "output_type": "stream",
          "text": [
            "PYTHON PROGRAMMING 2021\n"
          ],
          "name": "stdout"
        }
      ]
    },
    {
      "cell_type": "code",
      "metadata": {
        "colab": {
          "base_uri": "https://localhost:8080/"
        },
        "id": "jxROfU-ODTNY",
        "outputId": "287c2583-9a05-433e-8bb2-54a645fcd43e"
      },
      "source": [
        "name1=input('ENTER UR NAME :')\n",
        "department1=input('ENTER YOUR DEPARTMENT : ')\n",
        "address1=input('ENTER YOUR ADDRESS : ' )"
      ],
      "execution_count": null,
      "outputs": [
        {
          "output_type": "stream",
          "text": [
            "ENTER UR NAME : Naveena\n",
            "ENTER YOUR DEPARTMENT :  Chemistry\n",
            "ENTER YOUR ADDRESS :  Trichy\n"
          ],
          "name": "stdout"
        }
      ]
    },
    {
      "cell_type": "code",
      "metadata": {
        "colab": {
          "base_uri": "https://localhost:8080/"
        },
        "id": "uBEH5wedEazs",
        "outputId": "c03cdcc0-d4e3-4f21-c9dc-3d5d69b6e544"
      },
      "source": [
        "print=float(input('ENTER NUMBER :'))"
      ],
      "execution_count": null,
      "outputs": [
        {
          "output_type": "stream",
          "text": [
            "ENTER NUMBER : 20.5\n"
          ],
          "name": "stdout"
        }
      ]
    },
    {
      "cell_type": "code",
      "metadata": {
        "colab": {
          "base_uri": "https://localhost:8080/"
        },
        "id": "RWJqIjDdUP4l",
        "outputId": "44d7091d-a3b2-474d-bf50-b5dea60489a3"
      },
      "source": [
        "print('PYTHON 2021 PROGRAMMIMG')"
      ],
      "execution_count": null,
      "outputs": [
        {
          "output_type": "stream",
          "text": [
            "PYTHON 2021 PROGRAMMIMG\n"
          ],
          "name": "stdout"
        }
      ]
    },
    {
      "cell_type": "code",
      "metadata": {
        "colab": {
          "base_uri": "https://localhost:8080/"
        },
        "id": "bicAU2xZaK8n",
        "outputId": "beb4742c-9a15-4b19-d11f-38ab9396524a"
      },
      "source": [
        "name='Naveena'\n",
        "age=21\n",
        "place='Perambalur'\n",
        "education='Msc chemistry'\n",
        "institution='BHC Trichy'\n",
        "print(f'I am {name} from {place} and I am {age} years old currently am doing {education} at {institution}')"
      ],
      "execution_count": null,
      "outputs": [
        {
          "output_type": "stream",
          "text": [
            "I am Naveena from Perambalur and I am 21 years old currently am doing Msc chemistry at BHC Trichy\n"
          ],
          "name": "stdout"
        }
      ]
    }
  ]
}